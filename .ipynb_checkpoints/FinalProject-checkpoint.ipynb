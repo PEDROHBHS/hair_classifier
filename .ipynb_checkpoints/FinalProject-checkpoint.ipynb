{
 "cells": [
  {
   "cell_type": "markdown",
   "id": "549d13f5",
   "metadata": {},
   "source": [
    "# Hair Classifier"
   ]
  },
  {
   "cell_type": "code",
   "execution_count": 1,
   "id": "6fc47a34",
   "metadata": {},
   "outputs": [],
   "source": [
    "from fastbook import *\n",
    "from fastai.vision.widgets import *"
   ]
  },
  {
   "cell_type": "code",
   "execution_count": 3,
   "id": "1f4a3786",
   "metadata": {},
   "outputs": [],
   "source": [
    "import pathlib\n",
    "temp = pathlib.PosixPath\n",
    "pathlib.PosixPath = pathlib.WindowsPath"
   ]
  },
  {
   "cell_type": "code",
   "execution_count": 4,
   "id": "be4bfc27",
   "metadata": {},
   "outputs": [
    {
     "name": "stdout",
     "output_type": "stream",
     "text": [
      "Requirement already satisfied: voila in c:\\users\\pepeb\\appdata\\local\\programs\\python\\python39\\lib\\site-packages (0.3.6)\n",
      "Requirement already satisfied: nbconvert<7,>=6.4.5 in c:\\users\\pepeb\\appdata\\local\\programs\\python\\python39\\lib\\site-packages (from voila) (6.5.4)\n",
      "Requirement already satisfied: jupyter-server<2.0.0,>=1.18 in c:\\users\\pepeb\\appdata\\local\\programs\\python\\python39\\lib\\site-packages (from voila) (1.19.1)\n",
      "Requirement already satisfied: traitlets<6,>=5.0.3 in c:\\users\\pepeb\\appdata\\local\\programs\\python\\python39\\lib\\site-packages (from voila) (5.1.0)\n",
      "Requirement already satisfied: jupyter-core>=4.11.0 in c:\\users\\pepeb\\appdata\\local\\programs\\python\\python39\\lib\\site-packages (from voila) (4.11.1)\n",
      "Requirement already satisfied: jupyter-client<8,>=6.1.3 in c:\\users\\pepeb\\appdata\\local\\programs\\python\\python39\\lib\\site-packages (from voila) (7.0.3)\n",
      "Requirement already satisfied: jupyterlab-server<3,>=2.3.0 in c:\\users\\pepeb\\appdata\\local\\programs\\python\\python39\\lib\\site-packages (from voila) (2.15.2)\n",
      "Requirement already satisfied: websockets>=9.0 in c:\\users\\pepeb\\appdata\\local\\programs\\python\\python39\\lib\\site-packages (from voila) (10.3)\n",
      "Requirement already satisfied: nbclient<0.6,>=0.4.0 in c:\\users\\pepeb\\appdata\\local\\programs\\python\\python39\\lib\\site-packages (from voila) (0.5.4)\n",
      "Requirement already satisfied: tornado>=4.1 in c:\\users\\pepeb\\appdata\\local\\programs\\python\\python39\\lib\\site-packages (from jupyter-client<8,>=6.1.3->voila) (6.1)\n",
      "Requirement already satisfied: entrypoints in c:\\users\\pepeb\\appdata\\local\\programs\\python\\python39\\lib\\site-packages (from jupyter-client<8,>=6.1.3->voila) (0.3)\n",
      "Requirement already satisfied: nest-asyncio>=1.5 in c:\\users\\pepeb\\appdata\\local\\programs\\python\\python39\\lib\\site-packages (from jupyter-client<8,>=6.1.3->voila) (1.5.1)\n",
      "Requirement already satisfied: pyzmq>=13 in c:\\users\\pepeb\\appdata\\local\\programs\\python\\python39\\lib\\site-packages (from jupyter-client<8,>=6.1.3->voila) (22.3.0)\n",
      "Requirement already satisfied: python-dateutil>=2.1 in c:\\users\\pepeb\\appdata\\local\\programs\\python\\python39\\lib\\site-packages (from jupyter-client<8,>=6.1.3->voila) (2.8.2)\n",
      "Requirement already satisfied: pywin32>=1.0 in c:\\users\\pepeb\\appdata\\local\\programs\\python\\python39\\lib\\site-packages (from jupyter-core>=4.11.0->voila) (301)\n",
      "Requirement already satisfied: jinja2 in c:\\users\\pepeb\\appdata\\local\\programs\\python\\python39\\lib\\site-packages (from jupyter-server<2.0.0,>=1.18->voila) (3.1.2)\n",
      "Requirement already satisfied: nbformat>=5.2.0 in c:\\users\\pepeb\\appdata\\local\\programs\\python\\python39\\lib\\site-packages (from jupyter-server<2.0.0,>=1.18->voila) (5.6.1)\n",
      "Requirement already satisfied: anyio<4,>=3.1.0 in c:\\users\\pepeb\\appdata\\local\\programs\\python\\python39\\lib\\site-packages (from jupyter-server<2.0.0,>=1.18->voila) (3.6.1)\n",
      "Requirement already satisfied: prometheus-client in c:\\users\\pepeb\\appdata\\local\\programs\\python\\python39\\lib\\site-packages (from jupyter-server<2.0.0,>=1.18->voila) (0.11.0)\n",
      "Requirement already satisfied: terminado>=0.8.3 in c:\\users\\pepeb\\appdata\\local\\programs\\python\\python39\\lib\\site-packages (from jupyter-server<2.0.0,>=1.18->voila) (0.12.1)\n",
      "Requirement already satisfied: Send2Trash in c:\\users\\pepeb\\appdata\\local\\programs\\python\\python39\\lib\\site-packages (from jupyter-server<2.0.0,>=1.18->voila) (1.8.0)\n",
      "Requirement already satisfied: pywinpty in c:\\users\\pepeb\\appdata\\local\\programs\\python\\python39\\lib\\site-packages (from jupyter-server<2.0.0,>=1.18->voila) (1.1.4)\n",
      "Requirement already satisfied: packaging in c:\\users\\pepeb\\appdata\\local\\programs\\python\\python39\\lib\\site-packages (from jupyter-server<2.0.0,>=1.18->voila) (21.0)\n",
      "Requirement already satisfied: websocket-client in c:\\users\\pepeb\\appdata\\local\\programs\\python\\python39\\lib\\site-packages (from jupyter-server<2.0.0,>=1.18->voila) (1.4.1)\n",
      "Requirement already satisfied: argon2-cffi in c:\\users\\pepeb\\appdata\\local\\programs\\python\\python39\\lib\\site-packages (from jupyter-server<2.0.0,>=1.18->voila) (21.1.0)\n",
      "Requirement already satisfied: jsonschema>=3.0.1 in c:\\users\\pepeb\\appdata\\local\\programs\\python\\python39\\lib\\site-packages (from jupyterlab-server<3,>=2.3.0->voila) (3.2.0)\n",
      "Requirement already satisfied: importlib-metadata>=3.6 in c:\\users\\pepeb\\appdata\\local\\programs\\python\\python39\\lib\\site-packages (from jupyterlab-server<3,>=2.3.0->voila) (5.0.0)\n",
      "Requirement already satisfied: json5 in c:\\users\\pepeb\\appdata\\local\\programs\\python\\python39\\lib\\site-packages (from jupyterlab-server<3,>=2.3.0->voila) (0.9.10)\n",
      "Requirement already satisfied: requests in c:\\users\\pepeb\\appdata\\local\\programs\\python\\python39\\lib\\site-packages (from jupyterlab-server<3,>=2.3.0->voila) (2.27.1)\n",
      "Requirement already satisfied: babel in c:\\users\\pepeb\\appdata\\local\\programs\\python\\python39\\lib\\site-packages (from jupyterlab-server<3,>=2.3.0->voila) (2.10.3)\n",
      "Requirement already satisfied: MarkupSafe>=2.0 in c:\\users\\pepeb\\appdata\\local\\programs\\python\\python39\\lib\\site-packages (from nbconvert<7,>=6.4.5->voila) (2.0.1)\n",
      "Requirement already satisfied: tinycss2 in c:\\users\\pepeb\\appdata\\local\\programs\\python\\python39\\lib\\site-packages (from nbconvert<7,>=6.4.5->voila) (1.1.1)\n",
      "Requirement already satisfied: beautifulsoup4 in c:\\users\\pepeb\\appdata\\local\\programs\\python\\python39\\lib\\site-packages (from nbconvert<7,>=6.4.5->voila) (4.11.1)\n",
      "Requirement already satisfied: pandocfilters>=1.4.1 in c:\\users\\pepeb\\appdata\\local\\programs\\python\\python39\\lib\\site-packages (from nbconvert<7,>=6.4.5->voila) (1.5.0)\n",
      "Requirement already satisfied: bleach in c:\\users\\pepeb\\appdata\\local\\programs\\python\\python39\\lib\\site-packages (from nbconvert<7,>=6.4.5->voila) (4.1.0)\n",
      "Requirement already satisfied: defusedxml in c:\\users\\pepeb\\appdata\\local\\programs\\python\\python39\\lib\\site-packages (from nbconvert<7,>=6.4.5->voila) (0.7.1)\n",
      "Requirement already satisfied: mistune<2,>=0.8.1 in c:\\users\\pepeb\\appdata\\local\\programs\\python\\python39\\lib\\site-packages (from nbconvert<7,>=6.4.5->voila) (0.8.4)\n",
      "Requirement already satisfied: lxml in c:\\users\\pepeb\\appdata\\local\\programs\\python\\python39\\lib\\site-packages (from nbconvert<7,>=6.4.5->voila) (4.9.1)\n",
      "Requirement already satisfied: jupyterlab-pygments in c:\\users\\pepeb\\appdata\\local\\programs\\python\\python39\\lib\\site-packages (from nbconvert<7,>=6.4.5->voila) (0.1.2)\n",
      "Requirement already satisfied: pygments>=2.4.1 in c:\\users\\pepeb\\appdata\\local\\programs\\python\\python39\\lib\\site-packages (from nbconvert<7,>=6.4.5->voila) (2.10.0)\n",
      "Requirement already satisfied: idna>=2.8 in c:\\users\\pepeb\\appdata\\local\\programs\\python\\python39\\lib\\site-packages (from anyio<4,>=3.1.0->jupyter-server<2.0.0,>=1.18->voila) (3.3)\n",
      "Requirement already satisfied: sniffio>=1.1 in c:\\users\\pepeb\\appdata\\local\\programs\\python\\python39\\lib\\site-packages (from anyio<4,>=3.1.0->jupyter-server<2.0.0,>=1.18->voila) (1.3.0)\n",
      "Requirement already satisfied: zipp>=0.5 in c:\\users\\pepeb\\appdata\\local\\programs\\python\\python39\\lib\\site-packages (from importlib-metadata>=3.6->jupyterlab-server<3,>=2.3.0->voila) (3.8.1)\n",
      "Requirement already satisfied: six>=1.11.0 in c:\\users\\pepeb\\appdata\\local\\programs\\python\\python39\\lib\\site-packages (from jsonschema>=3.0.1->jupyterlab-server<3,>=2.3.0->voila) (1.16.0)\n",
      "Requirement already satisfied: setuptools in c:\\users\\pepeb\\appdata\\local\\programs\\python\\python39\\lib\\site-packages (from jsonschema>=3.0.1->jupyterlab-server<3,>=2.3.0->voila) (57.4.0)\n",
      "Requirement already satisfied: pyrsistent>=0.14.0 in c:\\users\\pepeb\\appdata\\local\\programs\\python\\python39\\lib\\site-packages (from jsonschema>=3.0.1->jupyterlab-server<3,>=2.3.0->voila) (0.18.0)\n",
      "Requirement already satisfied: attrs>=17.4.0 in c:\\users\\pepeb\\appdata\\local\\programs\\python\\python39\\lib\\site-packages (from jsonschema>=3.0.1->jupyterlab-server<3,>=2.3.0->voila) (21.2.0)\n",
      "Requirement already satisfied: fastjsonschema in c:\\users\\pepeb\\appdata\\local\\programs\\python\\python39\\lib\\site-packages (from nbformat>=5.2.0->jupyter-server<2.0.0,>=1.18->voila) (2.16.2)\n",
      "Requirement already satisfied: cffi>=1.0.0 in c:\\users\\pepeb\\appdata\\local\\programs\\python\\python39\\lib\\site-packages (from argon2-cffi->jupyter-server<2.0.0,>=1.18->voila) (1.14.6)\n",
      "Requirement already satisfied: pytz>=2015.7 in c:\\users\\pepeb\\appdata\\local\\programs\\python\\python39\\lib\\site-packages (from babel->jupyterlab-server<3,>=2.3.0->voila) (2022.4)\n",
      "Requirement already satisfied: soupsieve>1.2 in c:\\users\\pepeb\\appdata\\local\\programs\\python\\python39\\lib\\site-packages (from beautifulsoup4->nbconvert<7,>=6.4.5->voila) (2.3.2.post1)\n",
      "Requirement already satisfied: webencodings in c:\\users\\pepeb\\appdata\\local\\programs\\python\\python39\\lib\\site-packages (from bleach->nbconvert<7,>=6.4.5->voila) (0.5.1)\n",
      "Requirement already satisfied: pyparsing>=2.0.2 in c:\\users\\pepeb\\appdata\\local\\programs\\python\\python39\\lib\\site-packages (from packaging->jupyter-server<2.0.0,>=1.18->voila) (2.4.7)\n",
      "Requirement already satisfied: urllib3<1.27,>=1.21.1 in c:\\users\\pepeb\\appdata\\local\\programs\\python\\python39\\lib\\site-packages (from requests->jupyterlab-server<3,>=2.3.0->voila) (1.26.9)\n",
      "Requirement already satisfied: charset-normalizer~=2.0.0 in c:\\users\\pepeb\\appdata\\local\\programs\\python\\python39\\lib\\site-packages (from requests->jupyterlab-server<3,>=2.3.0->voila) (2.0.12)\n",
      "Requirement already satisfied: certifi>=2017.4.17 in c:\\users\\pepeb\\appdata\\local\\programs\\python\\python39\\lib\\site-packages (from requests->jupyterlab-server<3,>=2.3.0->voila) (2022.5.18.1)\n",
      "Requirement already satisfied: pycparser in c:\\users\\pepeb\\appdata\\local\\programs\\python\\python39\\lib\\site-packages (from cffi>=1.0.0->argon2-cffi->jupyter-server<2.0.0,>=1.18->voila) (2.20)\n"
     ]
    }
   ],
   "source": [
    "!pip install voila"
   ]
  },
  {
   "cell_type": "code",
   "execution_count": 5,
   "id": "ff25e0fa",
   "metadata": {},
   "outputs": [],
   "source": [
    "learn_inf = load_learner('export-colab.pkl')\n",
    "btn_upload = widgets.FileUpload()\n",
    "out_pl = widgets.Output()\n",
    "lbl_pred = widgets.Label()\n",
    "btn_run = widgets.Button(description='Classify')"
   ]
  },
  {
   "cell_type": "code",
   "execution_count": 6,
   "id": "9db0837e",
   "metadata": {},
   "outputs": [],
   "source": [
    "def on_click_classify(change):\n",
    "    img = PILImage.create(btn_upload.data[-1])\n",
    "    out_pl.clear_output()\n",
    "    with out_pl: display(img.to_thumb(128,128))\n",
    "    pred,pred_idx,probs = learn_inf.predict(img)\n",
    "    lbl_pred.value = f'Prediction: {pred}; Probability: {probs[pred_idx]:.04f}'\n",
    "\n",
    "btn_run.on_click(on_click_classify)"
   ]
  },
  {
   "cell_type": "code",
   "execution_count": 7,
   "id": "e0a1ee80",
   "metadata": {},
   "outputs": [
    {
     "data": {
      "application/vnd.jupyter.widget-view+json": {
       "model_id": "c7bcbc6192b04c65a12a10e4912890d9",
       "version_major": 2,
       "version_minor": 0
      },
      "text/plain": [
       "VBox(children=(Label(value='Select your hair!'), FileUpload(value={}, description='Upload'), Button(descriptio…"
      ]
     },
     "metadata": {},
     "output_type": "display_data"
    },
    {
     "data": {
      "text/html": [
       "\n",
       "<style>\n",
       "    /* Turns off some styling */\n",
       "    progress {\n",
       "        /* gets rid of default border in Firefox and Opera. */\n",
       "        border: none;\n",
       "        /* Needs to be in here for Safari polyfill so background images work as expected. */\n",
       "        background-size: auto;\n",
       "    }\n",
       "    progress:not([value]), progress:not([value])::-webkit-progress-bar {\n",
       "        background: repeating-linear-gradient(45deg, #7e7e7e, #7e7e7e 10px, #5c5c5c 10px, #5c5c5c 20px);\n",
       "    }\n",
       "    .progress-bar-interrupted, .progress-bar-interrupted::-webkit-progress-bar {\n",
       "        background: #F44336;\n",
       "    }\n",
       "</style>\n"
      ],
      "text/plain": [
       "<IPython.core.display.HTML object>"
      ]
     },
     "metadata": {},
     "output_type": "display_data"
    },
    {
     "data": {
      "text/html": [],
      "text/plain": [
       "<IPython.core.display.HTML object>"
      ]
     },
     "metadata": {},
     "output_type": "display_data"
    }
   ],
   "source": [
    "display(VBox([widgets.Label('Select your hair!'), \n",
    "      btn_upload, btn_run, out_pl, lbl_pred]))"
   ]
  },
  {
   "cell_type": "code",
   "execution_count": null,
   "id": "f0d377d6",
   "metadata": {},
   "outputs": [],
   "source": []
  }
 ],
 "metadata": {
  "kernelspec": {
   "display_name": "Python 3 (ipykernel)",
   "language": "python",
   "name": "python3"
  },
  "language_info": {
   "codemirror_mode": {
    "name": "ipython",
    "version": 3
   },
   "file_extension": ".py",
   "mimetype": "text/x-python",
   "name": "python",
   "nbconvert_exporter": "python",
   "pygments_lexer": "ipython3",
   "version": "3.9.7"
  }
 },
 "nbformat": 4,
 "nbformat_minor": 5
}
